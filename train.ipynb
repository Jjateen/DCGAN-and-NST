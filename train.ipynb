{
 "cells": [
  {
   "cell_type": "code",
   "execution_count": null,
   "metadata": {
    "_cell_guid": "b1076dfc-b9ad-4769-8c92-a6c4dae69d19",
    "_uuid": "8f2839f25d086af736a60e9eeb907d3b93b6e0e5",
    "execution": {
     "iopub.execute_input": "2023-12-11T16:11:33.303159Z",
     "iopub.status.busy": "2023-12-11T16:11:33.302594Z",
     "iopub.status.idle": "2023-12-11T16:11:33.309940Z",
     "shell.execute_reply": "2023-12-11T16:11:33.308887Z",
     "shell.execute_reply.started": "2023-12-11T16:11:33.303106Z"
    }
   },
   "outputs": [],
   "source": [
    "import os\n",
    "import numpy as np\n",
    "import matplotlib.pyplot as plt\n",
    "import warnings\n",
    "from tqdm.notebook import tqdm\n",
    "\n",
    "import tensorflow as tf\n",
    "from tensorflow import keras\n",
    "from tensorflow.keras.preprocessing.image import load_img, array_to_img\n",
    "from tensorflow.keras.models import Sequential, Model\n",
    "from tensorflow.keras import layers\n",
    "from tensorflow.keras.optimizers import Adam\n",
    "from tensorflow.keras.losses import BinaryCrossentropy\n",
    "\n",
    "warnings.filterwarnings('ignore')"
   ]
  },
  {
   "cell_type": "code",
   "execution_count": null,
   "metadata": {
    "execution": {
     "iopub.execute_input": "2023-12-11T16:11:33.789254Z",
     "iopub.status.busy": "2023-12-11T16:11:33.788859Z",
     "iopub.status.idle": "2023-12-11T16:11:33.795064Z",
     "shell.execute_reply": "2023-12-11T16:11:33.793819Z",
     "shell.execute_reply.started": "2023-12-11T16:11:33.789224Z"
    }
   },
   "outputs": [],
   "source": [
    "BASE_DIR = '/kaggle/input/butterfly-image-classification/train/'"
   ]
  },
  {
   "cell_type": "code",
   "execution_count": null,
   "metadata": {
    "execution": {
     "iopub.execute_input": "2023-12-11T16:11:33.822517Z",
     "iopub.status.busy": "2023-12-11T16:11:33.821712Z",
     "iopub.status.idle": "2023-12-11T16:11:33.852693Z",
     "shell.execute_reply": "2023-12-11T16:11:33.851797Z",
     "shell.execute_reply.started": "2023-12-11T16:11:33.822488Z"
    }
   },
   "outputs": [],
   "source": [
    "# load complete image paths to the list\n",
    "image_paths = []\n",
    "for image_name in os.listdir(BASE_DIR):\n",
    "    image_path = os.path.join(BASE_DIR, image_name)\n",
    "    image_paths.append(image_path)\n",
    "image_paths[:5]"
   ]
  },
  {
   "cell_type": "code",
   "execution_count": null,
   "metadata": {
    "execution": {
     "iopub.execute_input": "2023-12-11T16:11:33.855117Z",
     "iopub.status.busy": "2023-12-11T16:11:33.854503Z",
     "iopub.status.idle": "2023-12-11T16:11:33.858454Z",
     "shell.execute_reply": "2023-12-11T16:11:33.857565Z",
     "shell.execute_reply.started": "2023-12-11T16:11:33.855083Z"
    }
   },
   "outputs": [],
   "source": [
    "# image_paths.remove('/kaggle/input/butterfly-image-classification/train/train')"
   ]
  },
  {
   "cell_type": "code",
   "execution_count": null,
   "metadata": {
    "execution": {
     "iopub.execute_input": "2023-12-11T16:11:33.878521Z",
     "iopub.status.busy": "2023-12-11T16:11:33.877890Z",
     "iopub.status.idle": "2023-12-11T16:11:33.884377Z",
     "shell.execute_reply": "2023-12-11T16:11:33.883420Z",
     "shell.execute_reply.started": "2023-12-11T16:11:33.878486Z"
    }
   },
   "outputs": [],
   "source": [
    "len(image_paths)"
   ]
  },
  {
   "cell_type": "code",
   "execution_count": null,
   "metadata": {
    "execution": {
     "iopub.execute_input": "2023-12-11T16:11:33.907255Z",
     "iopub.status.busy": "2023-12-11T16:11:33.906909Z",
     "iopub.status.idle": "2023-12-11T16:11:37.204347Z",
     "shell.execute_reply": "2023-12-11T16:11:37.203295Z",
     "shell.execute_reply.started": "2023-12-11T16:11:33.907229Z"
    }
   },
   "outputs": [],
   "source": [
    "# to display grid of images (7x7)\n",
    "plt.figure(figsize=(20, 20))\n",
    "temp_images = image_paths[:49]\n",
    "index = 1\n",
    "\n",
    "for image_path in temp_images:\n",
    "    plt.subplot(7, 7, index)\n",
    "    # load the image\n",
    "    img = load_img(image_path)\n",
    "    # convert to numpy array\n",
    "    img = np.array(img)\n",
    "    # show the image\n",
    "    plt.imshow(img)\n",
    "    plt.axis('off')\n",
    "    # increment the index for next image\n",
    "    index += 1"
   ]
  },
  {
   "cell_type": "code",
   "execution_count": null,
   "metadata": {
    "execution": {
     "iopub.execute_input": "2023-12-11T16:11:37.206577Z",
     "iopub.status.busy": "2023-12-11T16:11:37.206071Z",
     "iopub.status.idle": "2023-12-11T16:11:37.211692Z",
     "shell.execute_reply": "2023-12-11T16:11:37.210797Z",
     "shell.execute_reply.started": "2023-12-11T16:11:37.206531Z"
    }
   },
   "outputs": [],
   "source": [
    "from tqdm import tqdm"
   ]
  },
  {
   "cell_type": "code",
   "execution_count": null,
   "metadata": {
    "execution": {
     "iopub.execute_input": "2023-12-11T16:11:37.213288Z",
     "iopub.status.busy": "2023-12-11T16:11:37.212978Z",
     "iopub.status.idle": "2023-12-11T16:11:52.639350Z",
     "shell.execute_reply": "2023-12-11T16:11:52.638365Z",
     "shell.execute_reply.started": "2023-12-11T16:11:37.213260Z"
    }
   },
   "outputs": [],
   "source": [
    "# load the image and convert to numpy array\n",
    "train_images = [np.array(load_img(path)) for path in tqdm(image_paths)]\n",
    "train_images = np.array(train_images)"
   ]
  },
  {
   "cell_type": "code",
   "execution_count": null,
   "metadata": {
    "execution": {
     "iopub.execute_input": "2023-12-11T16:11:52.642479Z",
     "iopub.status.busy": "2023-12-11T16:11:52.642026Z",
     "iopub.status.idle": "2023-12-11T16:11:52.648883Z",
     "shell.execute_reply": "2023-12-11T16:11:52.647960Z",
     "shell.execute_reply.started": "2023-12-11T16:11:52.642444Z"
    }
   },
   "outputs": [],
   "source": [
    "train_images[9].shape"
   ]
  },
  {
   "cell_type": "code",
   "execution_count": null,
   "metadata": {
    "execution": {
     "iopub.execute_input": "2023-12-11T16:11:55.723121Z",
     "iopub.status.busy": "2023-12-11T16:11:55.722821Z",
     "iopub.status.idle": "2023-12-11T16:11:56.086106Z",
     "shell.execute_reply": "2023-12-11T16:11:56.084136Z",
     "shell.execute_reply.started": "2023-12-11T16:11:55.723097Z"
    }
   },
   "outputs": [],
   "source": [
    "# reshape the array\n",
    "train_images = train_images.reshape(train_images.shape[0], 224, 224, 3).astype('float32')"
   ]
  },
  {
   "cell_type": "code",
   "execution_count": null,
   "metadata": {},
   "outputs": [],
   "source": [
    "import tensorflow as tf\n",
    "\n",
    "# Assuming train_images is your array of shape (original_length, 224, 224, 3)\n",
    "train_images = tf.image.resize(train_images, size=(64, 64), method=tf.image.ResizeMethod.BILINEAR)\n",
    "\n",
    "# Ensure the data type is float32\n",
    "train_images = tf.image.convert_image_dtype(train_images, dtype=tf.float32)"
   ]
  },
  {
   "cell_type": "code",
   "execution_count": null,
   "metadata": {
    "execution": {
     "iopub.status.busy": "2023-12-11T16:11:56.087056Z",
     "iopub.status.idle": "2023-12-11T16:11:56.087415Z",
     "shell.execute_reply": "2023-12-11T16:11:56.087252Z",
     "shell.execute_reply.started": "2023-12-11T16:11:56.087237Z"
    }
   },
   "outputs": [],
   "source": [
    "import tensorflow as tf\n",
    "from tensorflow import keras\n",
    "from tensorflow.keras.preprocessing.image import load_img, array_to_img\n",
    "from tensorflow.keras.models import Sequential, Model\n",
    "from tensorflow.keras import layers\n",
    "from tensorflow.keras.optimizers import Adam\n",
    "from tensorflow.keras.losses import BinaryCrossentropy"
   ]
  },
  {
   "cell_type": "code",
   "execution_count": null,
   "metadata": {
    "execution": {
     "iopub.status.busy": "2023-12-11T16:11:56.089447Z",
     "iopub.status.idle": "2023-12-11T16:11:56.089954Z",
     "shell.execute_reply": "2023-12-11T16:11:56.089710Z",
     "shell.execute_reply.started": "2023-12-11T16:11:56.089688Z"
    }
   },
   "outputs": [],
   "source": [
    "# normalize the images\n",
    "train_images = (train_images - 127.5) / 127.5"
   ]
  },
  {
   "cell_type": "code",
   "execution_count": null,
   "metadata": {
    "execution": {
     "iopub.status.busy": "2023-12-11T16:11:56.091320Z",
     "iopub.status.idle": "2023-12-11T16:11:56.091817Z",
     "shell.execute_reply": "2023-12-11T16:11:56.091584Z",
     "shell.execute_reply.started": "2023-12-11T16:11:56.091561Z"
    }
   },
   "outputs": [],
   "source": [
    "train_images[0]"
   ]
  },
  {
   "cell_type": "markdown",
   "metadata": {},
   "source": [
    "# Creating Generator and Discriminator"
   ]
  },
  {
   "cell_type": "code",
   "execution_count": null,
   "metadata": {
    "execution": {
     "iopub.status.busy": "2023-12-11T16:11:56.093579Z",
     "iopub.status.idle": "2023-12-11T16:11:56.094054Z",
     "shell.execute_reply": "2023-12-11T16:11:56.093841Z",
     "shell.execute_reply.started": "2023-12-11T16:11:56.093818Z"
    }
   },
   "outputs": [],
   "source": [
    "# latent dimension for random noise\n",
    "LATENT_DIM = 100\n",
    "# weight initializer\n",
    "WEIGHT_INIT = keras.initializers.RandomNormal(mean=0.0, stddev=0.02)\n",
    "# no. of channels of the image\n",
    "CHANNELS = 3 # for gray scale, keep it as 1"
   ]
  },
  {
   "cell_type": "markdown",
   "metadata": {},
   "source": [
    "## Generator"
   ]
  },
  {
   "cell_type": "code",
   "execution_count": null,
   "metadata": {
    "execution": {
     "iopub.status.busy": "2023-12-11T16:11:56.095172Z",
     "iopub.status.idle": "2023-12-11T16:11:56.095664Z",
     "shell.execute_reply": "2023-12-11T16:11:56.095430Z",
     "shell.execute_reply.started": "2023-12-11T16:11:56.095407Z"
    }
   },
   "outputs": [],
   "source": [
    "model = Sequential(name='generator')\n",
    "\n",
    "# 1d random noise\n",
    "model.add(layers.Dense(8 * 8 * 512, input_dim=LATENT_DIM))\n",
    "# model.add(layers.BatchNormalization())\n",
    "model.add(layers.ReLU())\n",
    "\n",
    "# convert 1d to 3d\n",
    "model.add(layers.Reshape((8, 8, 512)))\n",
    "\n",
    "# upsample to 16x16\n",
    "model.add(layers.Conv2DTranspose(256, (4, 4), strides=(2, 2), padding='same', kernel_initializer=WEIGHT_INIT))\n",
    "# model.add(layers.BatchNormalization())\n",
    "model.add(layers.ReLU())\n",
    "\n",
    "# upsample to 32x32\n",
    "model.add(layers.Conv2DTranspose(128, (4, 4), strides=(2, 2), padding='same', kernel_initializer=WEIGHT_INIT))\n",
    "# model.add(layers.BatchNormalization())\n",
    "model.add(layers.ReLU())\n",
    "\n",
    "# upsample to 64x64\n",
    "model.add(layers.Conv2DTranspose(64, (4, 4), strides=(2, 2), padding='same', kernel_initializer=WEIGHT_INIT))\n",
    "# model.add(layers.BatchNormalization())\n",
    "model.add(layers.ReLU())\n",
    "\n",
    "model.add(layers.Conv2D(CHANNELS, (4, 4), padding='same', activation='tanh'))\n",
    "\n",
    "generator = model\n",
    "generator.summary()"
   ]
  },
  {
   "cell_type": "markdown",
   "metadata": {},
   "source": [
    "## Discriminator"
   ]
  },
  {
   "cell_type": "code",
   "execution_count": null,
   "metadata": {
    "execution": {
     "iopub.status.busy": "2023-12-11T16:11:56.097276Z",
     "iopub.status.idle": "2023-12-11T16:11:56.097623Z",
     "shell.execute_reply": "2023-12-11T16:11:56.097473Z",
     "shell.execute_reply.started": "2023-12-11T16:11:56.097456Z"
    }
   },
   "outputs": [],
   "source": [
    "model = Sequential(name='discriminator')\n",
    "input_shape = (64, 64, 3)\n",
    "alpha = 0.2\n",
    "\n",
    "# create conv layers\n",
    "model.add(layers.Conv2D(64, (4, 4), strides=(2, 2), padding='same', input_shape=input_shape))\n",
    "model.add(layers.BatchNormalization())\n",
    "model.add(layers.LeakyReLU(alpha=alpha))\n",
    "\n",
    "model.add(layers.Conv2D(128, (4, 4), strides=(2, 2), padding='same', input_shape=input_shape))\n",
    "model.add(layers.BatchNormalization())\n",
    "model.add(layers.LeakyReLU(alpha=alpha))\n",
    "\n",
    "model.add(layers.Conv2D(128, (4, 4), strides=(2, 2), padding='same', input_shape=input_shape))\n",
    "model.add(layers.BatchNormalization())\n",
    "model.add(layers.LeakyReLU(alpha=alpha))\n",
    "\n",
    "model.add(layers.Flatten())\n",
    "model.add(layers.Dropout(0.3))\n",
    "\n",
    "# output class\n",
    "model.add(layers.Dense(1, activation='sigmoid'))\n",
    "\n",
    "discriminator = model\n",
    "discriminator.summary()"
   ]
  },
  {
   "cell_type": "markdown",
   "metadata": {},
   "source": [
    "# Creating DCGAN"
   ]
  },
  {
   "cell_type": "code",
   "execution_count": null,
   "metadata": {
    "execution": {
     "iopub.status.busy": "2023-12-11T16:11:56.098618Z",
     "iopub.status.idle": "2023-12-11T16:11:56.098974Z",
     "shell.execute_reply": "2023-12-11T16:11:56.098817Z",
     "shell.execute_reply.started": "2023-12-11T16:11:56.098800Z"
    }
   },
   "outputs": [],
   "source": [
    "class DCGAN(keras.Model):\n",
    "    def __init__(self, generator, discriminator, latent_dim):\n",
    "        super().__init__()\n",
    "        self.generator = generator\n",
    "        self.discriminator = discriminator\n",
    "        self.latent_dim = latent_dim\n",
    "        self.g_loss_metric = keras.metrics.Mean(name='g_loss')\n",
    "        self.d_loss_metric = keras.metrics.Mean(name='d_loss')\n",
    "        \n",
    "    @property\n",
    "    def metrics(self):\n",
    "        return [self.g_loss_metric, self.d_loss_metric]\n",
    "    \n",
    "    def compile(self, g_optimizer, d_optimizer, loss_fn):\n",
    "        super(DCGAN, self).compile()\n",
    "        self.g_optimizer = g_optimizer\n",
    "        self.d_optimizer = d_optimizer\n",
    "        self.loss_fn = loss_fn\n",
    "        \n",
    "    def train_step(self, real_images):\n",
    "        # get batch size from the data\n",
    "        batch_size = tf.shape(real_images)[0]\n",
    "        # generate random noise\n",
    "        random_noise = tf.random.normal(shape=(batch_size, self.latent_dim))\n",
    "        \n",
    "        # train the discriminator with real (1) and fake (0) images\n",
    "        with tf.GradientTape() as tape:\n",
    "            # compute loss on real images\n",
    "            pred_real = self.discriminator(real_images, training=True)\n",
    "            # generate real image labels\n",
    "            real_labels = tf.ones((batch_size, 1))\n",
    "            # label smoothing\n",
    "            real_labels += 0.05 * tf.random.uniform(tf.shape(real_labels))\n",
    "            d_loss_real = self.loss_fn(real_labels, pred_real)\n",
    "            \n",
    "            # compute loss on fake images\n",
    "            fake_images = self.generator(random_noise)\n",
    "            pred_fake = self.discriminator(fake_images, training=True)\n",
    "            # generate fake labels\n",
    "            fake_labels = tf.zeros((batch_size, 1))\n",
    "            d_loss_fake = self.loss_fn(fake_labels, pred_fake)\n",
    "            \n",
    "            # total discriminator loss\n",
    "            d_loss = (d_loss_real + d_loss_fake) / 2\n",
    "            \n",
    "        # compute discriminator gradients\n",
    "        gradients = tape.gradient(d_loss, self.discriminator.trainable_variables)\n",
    "        # update the gradients\n",
    "        self.d_optimizer.apply_gradients(zip(gradients, self.discriminator.trainable_variables))\n",
    "        \n",
    "        \n",
    "        # train the generator model\n",
    "        labels = tf.ones((batch_size, 1))\n",
    "        # generator want discriminator to think that fake images are real\n",
    "        with tf.GradientTape() as tape:\n",
    "            # generate fake images from generator\n",
    "            fake_images = self.generator(random_noise, training=True)\n",
    "            # classify images as real or fake\n",
    "            pred_fake = self.discriminator(fake_images, training=True)\n",
    "            # compute loss\n",
    "            g_loss = self.loss_fn(labels, pred_fake)\n",
    "            \n",
    "        # compute gradients\n",
    "        gradients = tape.gradient(g_loss, self.generator.trainable_variables)\n",
    "        # update the gradients\n",
    "        self.g_optimizer.apply_gradients(zip(gradients, self.generator.trainable_variables))\n",
    "        \n",
    "        # update states for both models\n",
    "        self.d_loss_metric.update_state(d_loss)\n",
    "        self.g_loss_metric.update_state(g_loss)\n",
    "        \n",
    "        return {'d_loss': self.d_loss_metric.result(), 'g_loss': self.g_loss_metric.result()}"
   ]
  },
  {
   "cell_type": "code",
   "execution_count": null,
   "metadata": {
    "execution": {
     "iopub.status.busy": "2023-12-11T16:11:56.099935Z",
     "iopub.status.idle": "2023-12-11T16:11:56.100269Z",
     "shell.execute_reply": "2023-12-11T16:11:56.100129Z",
     "shell.execute_reply.started": "2023-12-11T16:11:56.100100Z"
    }
   },
   "outputs": [],
   "source": [
    "class DCGANMonitor(keras.callbacks.Callback):\n",
    "    def __init__(self, num_imgs=25, latent_dim=100):\n",
    "        self.num_imgs = num_imgs\n",
    "        self.latent_dim = latent_dim\n",
    "        # create random noise for generating images\n",
    "        self.noise = tf.random.normal([25, latent_dim])\n",
    "\n",
    "    def on_epoch_end(self, epoch, logs=None):\n",
    "        # generate the image from noise\n",
    "        g_img = self.model.generator(self.noise)\n",
    "        # denormalize the image\n",
    "        g_img = (g_img * 127.5) + 127.5\n",
    "        g_img.numpy()\n",
    "        \n",
    "        fig = plt.figure(figsize=(8, 8))\n",
    "        for i in range(self.num_imgs):\n",
    "            plt.subplot(5, 5, i+1)\n",
    "            img = array_to_img(g_img[i])\n",
    "            plt.imshow(img)\n",
    "            plt.axis('off')\n",
    "        # plt.savefig('epoch_{:03d}.png'.format(epoch))\n",
    "        plt.show()\n",
    "        \n",
    "    def on_train_end(self, logs=None):\n",
    "        self.model.generator.save('generator.h5')"
   ]
  },
  {
   "cell_type": "code",
   "execution_count": null,
   "metadata": {
    "execution": {
     "iopub.status.busy": "2023-12-11T16:11:56.101372Z",
     "iopub.status.idle": "2023-12-11T16:11:56.101712Z",
     "shell.execute_reply": "2023-12-11T16:11:56.101565Z",
     "shell.execute_reply.started": "2023-12-11T16:11:56.101549Z"
    }
   },
   "outputs": [],
   "source": [
    "dcgan = DCGAN(generator=generator, discriminator=discriminator, latent_dim=LATENT_DIM)"
   ]
  },
  {
   "cell_type": "code",
   "execution_count": null,
   "metadata": {
    "execution": {
     "iopub.status.busy": "2023-12-11T16:11:56.102816Z",
     "iopub.status.idle": "2023-12-11T16:11:56.103144Z",
     "shell.execute_reply": "2023-12-11T16:11:56.103000Z",
     "shell.execute_reply.started": "2023-12-11T16:11:56.102984Z"
    }
   },
   "outputs": [],
   "source": [
    "D_LR = 0.0003 \n",
    "G_LR = 0.0008\n",
    "dcgan.compile(g_optimizer=Adam(learning_rate=G_LR, beta_1=0.7), d_optimizer=Adam(learning_rate=D_LR, beta_1=0.7), loss_fn=BinaryCrossentropy())"
   ]
  },
  {
   "cell_type": "code",
   "execution_count": null,
   "metadata": {
    "execution": {
     "iopub.status.busy": "2023-12-11T16:11:56.104686Z",
     "iopub.status.idle": "2023-12-11T16:11:56.105054Z",
     "shell.execute_reply": "2023-12-11T16:11:56.104905Z",
     "shell.execute_reply.started": "2023-12-11T16:11:56.104881Z"
    }
   },
   "outputs": [],
   "source": [
    "N_EPOCHS = 100\n",
    "dcgan.fit(train_images, epochs=N_EPOCHS, callbacks=[DCGANMonitor()])"
   ]
  },
  {
   "cell_type": "markdown",
   "metadata": {},
   "source": [
    "# Generating New Images"
   ]
  },
  {
   "cell_type": "code",
   "execution_count": null,
   "metadata": {
    "execution": {
     "iopub.status.busy": "2023-12-11T16:11:56.106838Z",
     "iopub.status.idle": "2023-12-11T16:11:56.107196Z",
     "shell.execute_reply": "2023-12-11T16:11:56.107041Z",
     "shell.execute_reply.started": "2023-12-11T16:11:56.107023Z"
    }
   },
   "outputs": [],
   "source": [
    "noise = tf.random.normal([1, 100])\n",
    "fig = plt.figure(figsize=(3, 3))\n",
    "# generate the image from noise\n",
    "g_img = dcgan.generator(noise)\n",
    "# denormalize the image\n",
    "g_img = (g_img * 127.5) + 127.5\n",
    "g_img.numpy()\n",
    "img = array_to_img(g_img[0])\n",
    "plt.imshow(img)\n",
    "plt.axis('off')\n",
    "# plt.savefig('epoch_{:03d}.png'.format(epoch))\n",
    "plt.show()"
   ]
  },
  {
   "cell_type": "code",
   "execution_count": null,
   "metadata": {},
   "outputs": [],
   "source": []
  }
 ],
 "metadata": {
  "kaggle": {
   "accelerator": "gpu",
   "dataSources": [
    {
     "datasetId": 3442424,
     "sourceId": 6012800,
     "sourceType": "datasetVersion"
    }
   ],
   "dockerImageVersionId": 30616,
   "isGpuEnabled": true,
   "isInternetEnabled": true,
   "language": "python",
   "sourceType": "notebook"
  },
  "kernelspec": {
   "display_name": "Python 3 (ipykernel)",
   "language": "python",
   "name": "python3"
  },
  "language_info": {
   "codemirror_mode": {
    "name": "ipython",
    "version": 3
   },
   "file_extension": ".py",
   "mimetype": "text/x-python",
   "name": "python",
   "nbconvert_exporter": "python",
   "pygments_lexer": "ipython3",
   "version": "3.9.13"
  }
 },
 "nbformat": 4,
 "nbformat_minor": 4
}
